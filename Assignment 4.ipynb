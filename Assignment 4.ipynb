{
 "cells": [
  {
   "cell_type": "markdown",
   "id": "d49e5a1e-a9a7-42fb-a522-f3ef9fe0fe86",
   "metadata": {},
   "source": [
    "#Which keyword is used to create a function? Create a function to return a list of odd numbers in the range of 1 to 25.\n"
   ]
  },
  {
   "cell_type": "code",
   "execution_count": 1,
   "id": "92d46268-382f-4734-9833-196943f5db4f",
   "metadata": {},
   "outputs": [
    {
     "name": "stdout",
     "output_type": "stream",
     "text": [
      "[1, 3, 5, 7, 9, 11, 13, 15, 17, 19, 21, 23, 25]\n"
     ]
    }
   ],
   "source": [
    "def odd_numbers():\n",
    "    return [num for num in range(1, 26) if num % 2 != 0]\n",
    "\n",
    "result = odd_numbers()\n",
    "print(result)\n"
   ]
  },
  {
   "cell_type": "markdown",
   "id": "f7cc7834-87a5-4f83-89d3-2780058f1fda",
   "metadata": {},
   "source": [
    "#Why *args and **kwargs is used in some functions? Create a function each for *args and **kwargs to demonstrate their use."
   ]
  },
  {
   "cell_type": "code",
   "execution_count": 3,
   "id": "ed823160-d7dd-4867-bf62-26dbb2091f05",
   "metadata": {},
   "outputs": [
    {
     "name": "stdout",
     "output_type": "stream",
     "text": [
      "Positional arguments (*args):\n",
      "1\n",
      "2\n",
      "three\n",
      "[4, 5]\n",
      "six\n",
      "\n",
      "Keyword arguments (**kwargs):\n",
      "name : Alice\n",
      "age : 30\n",
      "city : New York\n",
      "country : USA\n"
     ]
    }
   ],
   "source": [
    "#args allows the function to accept any number of positional arguments, which are then processed within the function using a loop.\n",
    "#kwargs allows the function to accept any number of keyword arguments, which are received as a dictionary. This function iterates through the dictionary to access and print the keys and values.\n",
    "# Function using *args to accept variable positional arguments\n",
    "def args_function(*args):\n",
    "    print(\"Positional arguments (*args):\")\n",
    "    for arg in args:\n",
    "        print(arg)\n",
    "\n",
    "# Function using **kwargs to accept variable keyword arguments\n",
    "def kwargs_function(**kwargs):\n",
    "    print(\"\\nKeyword arguments (**kwargs):\")\n",
    "    for key, value in kwargs.items():\n",
    "        print(f\"{key} : {value}\")\n",
    "\n",
    "# Demonstrating the use of *args and **kwargs\n",
    "args_function(1, 2, \"three\", [4, 5], \"six\")  # Passing multiple positional arguments\n",
    "kwargs_function(name=\"Alice\", age=30, city=\"New York\", country=\"USA\")  # Passing multiple keyword arguments\n"
   ]
  },
  {
   "cell_type": "markdown",
   "id": "3c23b3e1-8d82-46b7-9b4a-953cc074917a",
   "metadata": {},
   "source": [
    "#What is an iterator in python? Name the method used to initialise the iterator object and the method\n",
    "used for iteration. Use these methods to print the first five elements of the given list [2, 4, 6, 8, 10, 12, 14,\n",
    "16, 18, 20]."
   ]
  },
  {
   "cell_type": "code",
   "execution_count": 4,
   "id": "ffa103da-9b78-423c-bb0a-a3942a94bbe1",
   "metadata": {},
   "outputs": [
    {
     "name": "stdout",
     "output_type": "stream",
     "text": [
      "First five elements of the list:\n",
      "2\n",
      "4\n",
      "6\n",
      "8\n",
      "10\n"
     ]
    }
   ],
   "source": [
    "# Creating an iterator object using iter()\n",
    "my_list = [2, 4, 6, 8, 10, 12, 14, 16, 18, 20]\n",
    "my_iterator = iter(my_list)\n",
    "\n",
    "# Iterating through the first five elements using next()\n",
    "print(\"First five elements of the list:\")\n",
    "for _ in range(5):\n",
    "    print(next(my_iterator))\n"
   ]
  },
  {
   "cell_type": "code",
   "execution_count": 5,
   "id": "ea41cd97-47cd-4834-a2b0-2492736ffe3c",
   "metadata": {},
   "outputs": [
    {
     "name": "stdout",
     "output_type": "stream",
     "text": [
      "Squares of the first five numbers:\n",
      "0\n",
      "1\n",
      "4\n",
      "9\n",
      "16\n"
     ]
    }
   ],
   "source": [
    "#A generator function in Python is a special type of function that generates a sequence of values using the yield keyword. Unlike regular functions that return a single value and terminate, generator functions can pause execution and yield multiple values one at a time.\n",
    "#The yield keyword is used in a generator function to yield a value to the caller while preserving the function's state. When a generator function is called, it doesn't execute immediately; instead, it returns an iterator. Each time the yield statement is encountered in the function, it pauses and yields the specified value, allowing the caller to retrieve the value without terminating the function. The function's state is maintained, so it can be resumed from where it left off when the generator is iterated further\n",
    "def square_generator(n):\n",
    "    for i in range(n):\n",
    "        yield i ** 2\n",
    "\n",
    "# Using the generator function to create an iterator\n",
    "my_generator = square_generator(5)\n",
    "\n",
    "# Iterating through the generated sequence\n",
    "print(\"Squares of the first five numbers:\")\n",
    "for square in my_generator:\n",
    "    print(square)\n"
   ]
  },
  {
   "cell_type": "markdown",
   "id": "0bb9ec13-a663-4f53-bbda-fa9bb7cba40f",
   "metadata": {},
   "source": [
    "#Create a generator function for prime numbers less than 1000. Use the next() method to print the first 20 prime numbers."
   ]
  },
  {
   "cell_type": "code",
   "execution_count": 6,
   "id": "58f8d642-9301-4a2f-bb02-bce5adae22c1",
   "metadata": {},
   "outputs": [
    {
     "name": "stdout",
     "output_type": "stream",
     "text": [
      "First 20 prime numbers:\n",
      "2\n",
      "3\n",
      "5\n",
      "7\n",
      "11\n",
      "13\n",
      "17\n",
      "19\n",
      "23\n",
      "29\n",
      "31\n",
      "37\n",
      "41\n",
      "43\n",
      "47\n",
      "53\n",
      "59\n",
      "61\n",
      "67\n",
      "71\n"
     ]
    }
   ],
   "source": [
    "def is_prime(num):\n",
    "    if num < 2:\n",
    "        return False\n",
    "    for i in range(2, int(num ** 0.5) + 1):\n",
    "        if num % i == 0:\n",
    "            return False\n",
    "    return True\n",
    "\n",
    "def prime_generator():\n",
    "    num = 2\n",
    "    count = 0\n",
    "    while count < 20:\n",
    "        if is_prime(num):\n",
    "            yield num\n",
    "            count += 1\n",
    "        num += 1\n",
    "\n",
    "# Creating a generator object\n",
    "prime_gen = prime_generator()\n",
    "\n",
    "# Printing the first 20 prime numbers using next()\n",
    "print(\"First 20 prime numbers:\")\n",
    "for _ in range(20):\n",
    "    print(next(prime_gen))\n"
   ]
  },
  {
   "cell_type": "markdown",
   "id": "e6a55d4d-d037-4006-a9d3-7bbbfcedd8e1",
   "metadata": {},
   "source": [
    "#Write a python program to print the first 10 Fibonacci numbers using a while loop."
   ]
  },
  {
   "cell_type": "code",
   "execution_count": 7,
   "id": "ee642e8a-6f8f-4d3b-8fc4-1d13ebb4fc2c",
   "metadata": {},
   "outputs": [
    {
     "name": "stdout",
     "output_type": "stream",
     "text": [
      "0\n",
      "1\n",
      "1\n",
      "2\n",
      "3\n",
      "5\n",
      "8\n",
      "13\n",
      "21\n",
      "34\n"
     ]
    }
   ],
   "source": [
    "# Function to print the first 10 Fibonacci numbers using a while loop\n",
    "def print_first_10_fibonacci():\n",
    "    count = 0\n",
    "    a, b = 0, 1\n",
    "\n",
    "    while count < 10:\n",
    "        print(a)\n",
    "        c = a + b\n",
    "        a = b\n",
    "        b = c\n",
    "        count += 1\n",
    "\n",
    "# Calling the function to print the first 10 Fibonacci numbers\n",
    "print_first_10_fibonacci()\n"
   ]
  },
  {
   "cell_type": "markdown",
   "id": "4be60df9-b6ad-4c00-9946-9e5ebdab62b7",
   "metadata": {},
   "source": [
    "#Write a List Comprehension to iterate through the given string: ‘pwskills’.Expected output: ['p', 'w', 's', 'k', 'i', 'l', 'l', 's']"
   ]
  },
  {
   "cell_type": "code",
   "execution_count": 10,
   "id": "ddf06f7e-5526-48d1-aedb-daf7218e3639",
   "metadata": {},
   "outputs": [
    {
     "name": "stdout",
     "output_type": "stream",
     "text": [
      "['p', 'w', 's', 'k', 'i', 'l', 'l', 's']\n"
     ]
    }
   ],
   "source": [
    "given_string = 'pwskills'\n",
    "\n",
    "output_list = [char for char in given_string ]\n",
    "print(output_list)\n"
   ]
  },
  {
   "cell_type": "markdown",
   "id": "478d6a56-36b6-44f4-8ad4-4a31df6d00c2",
   "metadata": {},
   "source": [
    "#Write a python program to check whether a given number is Palindrome or not using a while loop."
   ]
  },
  {
   "cell_type": "code",
   "execution_count": 14,
   "id": "e6dea80a-01f3-4fbb-a484-daf8db5e1cd5",
   "metadata": {},
   "outputs": [
    {
     "name": "stdin",
     "output_type": "stream",
     "text": [
      "Enter a number to check if it's a palindrome:  6\n"
     ]
    },
    {
     "name": "stdout",
     "output_type": "stream",
     "text": [
      "6 is a palindrome number.\n"
     ]
    }
   ],
   "source": [
    "def is_palindrome(number):\n",
    "    original_number = number\n",
    "    reversed_number = 0\n",
    "\n",
    "    while number > 0:\n",
    "        remainder = number % 10\n",
    "        reversed_number = reversed_number * 10 + remainder\n",
    "        number //= 10\n",
    "\n",
    "    return original_number == reversed_number\n",
    "\n",
    "# Taking input from the user\n",
    "num = int(input(\"Enter a number to check if it's a palindrome: \"))\n",
    "\n",
    "if is_palindrome(num):\n",
    "    print(f\"{num} is a palindrome number.\")\n",
    "else:\n",
    "    print(f\"{num} is not a palindrome number.\")\n"
   ]
  },
  {
   "cell_type": "markdown",
   "id": "83932389-b823-4371-892e-9c85c3fba1e1",
   "metadata": {},
   "source": [
    "#Write a code to print odd numbers from 1 to 100 using list comprehension."
   ]
  },
  {
   "cell_type": "code",
   "execution_count": 16,
   "id": "917e18ce-90cd-44e0-a744-c8c91f676e22",
   "metadata": {},
   "outputs": [
    {
     "name": "stdout",
     "output_type": "stream",
     "text": [
      "[1, 3, 5, 7, 9, 11, 13, 15, 17, 19, 21, 23, 25, 27, 29, 31, 33, 35, 37, 39, 41, 43, 45, 47, 49, 51, 53, 55, 57, 59, 61, 63, 65, 67, 69, 71, 73, 75, 77, 79, 81, 83, 85, 87, 89, 91, 93, 95, 97, 99]\n"
     ]
    }
   ],
   "source": [
    "# Using list comprehension to generate a list of odd numbers from 1 to 100\n",
    "odd_numbers = [num for num in range(1, 101) if num % 2 != 0]\n",
    "\n",
    "print(odd_numbers)\n"
   ]
  },
  {
   "cell_type": "code",
   "execution_count": null,
   "id": "7ab938c5-1f9e-4e45-8a21-09889c99fbc0",
   "metadata": {},
   "outputs": [],
   "source": []
  }
 ],
 "metadata": {
  "kernelspec": {
   "display_name": "Python 3 (ipykernel)",
   "language": "python",
   "name": "python3"
  },
  "language_info": {
   "codemirror_mode": {
    "name": "ipython",
    "version": 3
   },
   "file_extension": ".py",
   "mimetype": "text/x-python",
   "name": "python",
   "nbconvert_exporter": "python",
   "pygments_lexer": "ipython3",
   "version": "3.12.1"
  }
 },
 "nbformat": 4,
 "nbformat_minor": 5
}
